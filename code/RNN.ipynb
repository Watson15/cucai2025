{
 "cells": [
  {
   "cell_type": "code",
   "execution_count": 1,
   "metadata": {},
   "outputs": [],
   "source": [
    "import torch\n",
    "import torch.nn as nn\n",
    "import torch.optim as optim\n"
   ]
  },
  {
   "cell_type": "code",
   "execution_count": null,
   "metadata": {},
   "outputs": [],
   "source": [
    "# Define the RNN Model\n",
    "class RNN(nn.Module):\n",
    "    def __init__(self, input_size, hidden_size, output_size, num_layers):\n",
    "        super(RNN, self).__init__()\n",
    "        \n",
    "        # Modify 'input_size' to change the number of input features\n",
    "        # Modify 'hidden_size' to change the number of black box nodes\n",
    "        # Modify 'num_layers' to change the number of stacked RNN layers\n",
    "        # Modify 'output_size' to change the number of output features\n",
    "        \n",
    "        self.hidden_size = hidden_size\n",
    "        self.num_layers = num_layers\n",
    "        \n",
    "        # Define the RNN layer\n",
    "        self.rnn = nn.RNN(input_size, hidden_size, num_layers, batch_first=True)\n",
    "        \n",
    "        # Fully connected layer for final output\n",
    "        self.fc = nn.Linear(hidden_size, output_size)\n",
    "    \n",
    "    def forward(self, x):\n",
    "        # Initialize hidden state (zeroed out)\n",
    "        h0 = torch.zeros(self.num_layers, x.size(0), self.hidden_size)\n",
    "        \n",
    "        # Forward pass through RNN\n",
    "        out, _ = self.rnn(x, h0)\n",
    "        \n",
    "        # Take the output of the last time step\n",
    "        out = self.fc(out[:, -1, :])\n",
    "        return out"
   ]
  },
  {
   "cell_type": "code",
   "execution_count": null,
   "metadata": {},
   "outputs": [],
   "source": [
    "# Hyperparameters (Modify these to change network structure)\n",
    "input_size = 10  # Number of input features per time step\n",
    "hidden_size = 20  # Number of black box nodes\n",
    "output_size = 1   # Number of outputs\n",
    "num_layers = 2    # Number of stacked RNN layers\n",
    "\n",
    "# Create the RNN model\n",
    "model = RNN(input_size, hidden_size, output_size, num_layers)\n",
    "\n",
    "# Define loss function and optimizer\n",
    "criterion = nn.MSELoss()\n",
    "optimizer = optim.Adam(model.parameters(), lr=0.01)\n"
   ]
  },
  {
   "cell_type": "code",
   "execution_count": null,
   "metadata": {},
   "outputs": [],
   "source": [
    "# Sample Training Loop (Modify to suit your dataset)\n",
    "num_epochs = 100\n",
    "for epoch in range(num_epochs):\n",
    "    # Example input tensor shape: (batch_size, sequence_length, input_size)\n",
    "    # Data should be in the shape (batch_size, time_steps, input_size)\n",
    "    inputs = torch.randn(32, 5, input_size)  # 32 samples, sequence length of 5\n",
    "    targets = torch.randn(32, output_size)  # 32 target outputs\n",
    "    \n",
    "    # Forward pass\n",
    "    outputs = model(inputs)\n",
    "    loss = criterion(outputs, targets)\n",
    "    \n",
    "    # Backward pass\n",
    "    optimizer.zero_grad()\n",
    "    loss.backward()\n",
    "    optimizer.step()\n",
    "    \n",
    "    if (epoch+1) % 10 == 0:\n",
    "        print(f'Epoch [{epoch+1}/{num_epochs}], Loss: {loss.item():.4f}')\n",
    "\n"
   ]
  },
  {
   "cell_type": "code",
   "execution_count": null,
   "metadata": {},
   "outputs": [],
   "source": [
    "# At this point, the model is trained and can be used for inference\n",
    "# Example inference with new data\n",
    "new_data = torch.randn(1, 5, input_size)  # One sample, sequence length 5\n",
    "predicted_output = model(new_data)\n",
    "print(\"Predicted Output:\", predicted_output)"
   ]
  }
 ],
 "metadata": {
  "kernelspec": {
   "display_name": "Python 3",
   "language": "python",
   "name": "python3"
  },
  "language_info": {
   "codemirror_mode": {
    "name": "ipython",
    "version": 3
   },
   "file_extension": ".py",
   "mimetype": "text/x-python",
   "name": "python",
   "nbconvert_exporter": "python",
   "pygments_lexer": "ipython3",
   "version": "3.10.11"
  }
 },
 "nbformat": 4,
 "nbformat_minor": 2
}
